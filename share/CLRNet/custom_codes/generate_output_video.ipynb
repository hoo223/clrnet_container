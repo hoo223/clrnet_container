{
 "cells": [
  {
   "cell_type": "markdown",
   "metadata": {},
   "source": [
    "### K_road1"
   ]
  },
  {
   "cell_type": "code",
   "execution_count": null,
   "metadata": {},
   "outputs": [],
   "source": [
    "import cv2\n",
    "import os\n",
    "\n",
    "# Directory containing the images\n",
    "image_dir = '/home/hrai/codes/CLRNet/work_dirs/clr/dla34_k_road1/20241119_011034_lr_6e-04_b_24/visualization'\n",
    "\n",
    "# Get list of all image files in the directory\n",
    "image_files = sorted([img for img in os.listdir(image_dir) if img.endswith(\".jpg\")])\n",
    "\n",
    "# Define the codec and create VideoWriter object\n",
    "fps = 30\n",
    "frame = cv2.imread(os.path.join(image_dir, image_files[0]))\n",
    "height, width, layers = frame.shape\n",
    "video = cv2.VideoWriter('output_video_k_road1.avi', cv2.VideoWriter_fourcc(*'DIVX'), fps, (width, height))\n",
    "\n",
    "for image_file in tqdm(image_files):\n",
    "    image_path = os.path.join(image_dir, image_file)\n",
    "    frame = cv2.imread(image_path)\n",
    "    video.write(frame)\n",
    "\n",
    "video.release()\n",
    "cv2.destroyAllWindows()"
   ]
  },
  {
   "cell_type": "markdown",
   "metadata": {},
   "source": [
    "### K_road2"
   ]
  },
  {
   "cell_type": "code",
   "execution_count": null,
   "metadata": {},
   "outputs": [
    {
     "name": "stderr",
     "output_type": "stream",
     "text": [
      "100%|██████████| 1261/1261 [00:33<00:00, 37.39it/s]\n"
     ]
    }
   ],
   "source": [
    "import cv2\n",
    "import os\n",
    "\n",
    "# Directory containing the images\n",
    "image_dir = '/home/hrai/codes/CLRNet/work_dirs/clr/dla34_k_road2/20241119_023053_lr_6e-04_b_24/visualization'\n",
    "\n",
    "# Get list of all image files in the directory\n",
    "image_files = sorted([img for img in os.listdir(image_dir) if img.endswith(\".jpg\")])\n",
    "\n",
    "# Define the codec and create VideoWriter object\n",
    "fps = 30\n",
    "frame = cv2.imread(os.path.join(image_dir, image_files[0]))\n",
    "height, width, layers = frame.shape\n",
    "video = cv2.VideoWriter('output_video_k_road2.avi', cv2.VideoWriter_fourcc(*'DIVX'), fps, (width, height))\n",
    "\n",
    "for image_file in tqdm(image_files):\n",
    "    image_path = os.path.join(image_dir, image_file)\n",
    "    frame = cv2.imread(image_path)\n",
    "    video.write(frame)\n",
    "\n",
    "video.release()\n",
    "cv2.destroyAllWindows()"
   ]
  }
 ],
 "metadata": {
  "kernelspec": {
   "display_name": "clrnet",
   "language": "python",
   "name": "python3"
  },
  "language_info": {
   "codemirror_mode": {
    "name": "ipython",
    "version": 3
   },
   "file_extension": ".py",
   "mimetype": "text/x-python",
   "name": "python",
   "nbconvert_exporter": "python",
   "pygments_lexer": "ipython3",
   "version": "3.8.18"
  }
 },
 "nbformat": 4,
 "nbformat_minor": 2
}
