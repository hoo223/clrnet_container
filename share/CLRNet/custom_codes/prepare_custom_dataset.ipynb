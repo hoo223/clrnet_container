{
 "cells": [
  {
   "cell_type": "code",
   "execution_count": 23,
   "metadata": {},
   "outputs": [],
   "source": [
    "import os\n",
    "os.chdir('/root/share/CLRNet/')"
   ]
  },
  {
   "cell_type": "markdown",
   "metadata": {},
   "source": [
    "# custom test - K_road1"
   ]
  },
  {
   "cell_type": "markdown",
   "metadata": {},
   "source": [
    "### 1. put the rgb images to \"data/CULane/K_road1\""
   ]
  },
  {
   "cell_type": "code",
   "execution_count": 24,
   "metadata": {},
   "outputs": [],
   "source": [
    "# Directory containing the files\n",
    "target = 'K_road1'\n",
    "directory = f'data/CULane/{target}'\n",
    "# Get list of all files in the directory\n",
    "file_list = sorted(os.listdir(directory))"
   ]
  },
  {
   "cell_type": "markdown",
   "metadata": {},
   "source": [
    "### 2. generate test list file"
   ]
  },
  {
   "cell_type": "code",
   "execution_count": 25,
   "metadata": {},
   "outputs": [
    {
     "name": "stdout",
     "output_type": "stream",
     "text": [
      "/root/share/CLRNet/data/CULane/list/test_K_road1.txt\n"
     ]
    }
   ],
   "source": [
    "list_file_path = f'/root/share/CLRNet/data/CULane/list/test_{target}.txt'\n",
    "# Write the file paths to a text file\n",
    "with open(list_file_path, 'w') as f:\n",
    "    for file_name in file_list:\n",
    "        if 'line' in file_name:\n",
    "            continue\n",
    "        file_path = os.path.join(target, file_name)\n",
    "        f.write(file_path + '\\n')\n",
    "print(list_file_path)"
   ]
  },
  {
   "cell_type": "markdown",
   "metadata": {},
   "source": [
    "### 3. generate fake annotation files\n"
   ]
  },
  {
   "cell_type": "code",
   "execution_count": 26,
   "metadata": {},
   "outputs": [
    {
     "name": "stdout",
     "output_type": "stream",
     "text": [
      "data/CULane/K_road1/frame_0842.lines.txt\n"
     ]
    }
   ],
   "source": [
    "# Create fake annotation files\n",
    "for file_name in file_list:\n",
    "    if file_name.endswith('.jpg'):\n",
    "        annotation_file = file_name.replace('.jpg', '.lines.txt')\n",
    "        annotation_path = os.path.join(directory, annotation_file)\n",
    "        with open(annotation_path, 'w') as f:\n",
    "            f.write('\\n')\n",
    "print(annotation_path)"
   ]
  },
  {
   "cell_type": "markdown",
   "metadata": {},
   "source": [
    "### 4. update LIST_FILE in clrnet/datasets/culane.py"
   ]
  },
  {
   "cell_type": "code",
   "execution_count": 28,
   "metadata": {},
   "outputs": [
    {
     "name": "stdout",
     "output_type": "stream",
     "text": [
      "/root/share/CLRNet/clrnet/datasets/culane.py\n"
     ]
    }
   ],
   "source": [
    "print('/root/share/CLRNet/clrnet/datasets/culane.py')"
   ]
  },
  {
   "cell_type": "code",
   "execution_count": null,
   "metadata": {},
   "outputs": [],
   "source": [
    "# for example\n",
    "LIST_FILE = {\n",
    "    ...\n",
    "    'test_K_road1': 'list/test_K_road1.txt', # key : test list file\n",
    "}"
   ]
  },
  {
   "cell_type": "markdown",
   "metadata": {},
   "source": [
    "### 5. create config file - configs/clrnet/clr_dla34_k_road1.py"
   ]
  },
  {
   "cell_type": "code",
   "execution_count": 29,
   "metadata": {},
   "outputs": [
    {
     "name": "stdout",
     "output_type": "stream",
     "text": [
      "/root/share/CLRNet/configs/clrnet/clr_dla34_k_road1.py\n"
     ]
    }
   ],
   "source": [
    "print('/root/share/CLRNet/configs/clrnet/clr_dla34_k_road1.py')"
   ]
  },
  {
   "cell_type": "markdown",
   "metadata": {},
   "source": [
    "To change\n",
    "* ori_img_h -> original image height\n",
    "* ori_img_w -> original image width\n",
    "* cut_height -> 도로 영역의 시작 y 좌표 -> 너무 작으면 성능이 떨어짐 (usually half of the height)\n",
    "* sample_y = range(ori_img_h-1, cut_height, -20)\n",
    "* test=dict(\n",
    "    \n",
    "        ...\n",
    "    \n",
    "        split='test_K_road1', # -> 4.에서 설정한 key로 변경\n",
    "    \n",
    "    )"
   ]
  }
 ],
 "metadata": {
  "kernelspec": {
   "display_name": "clrnet",
   "language": "python",
   "name": "python3"
  },
  "language_info": {
   "codemirror_mode": {
    "name": "ipython",
    "version": 3
   },
   "file_extension": ".py",
   "mimetype": "text/x-python",
   "name": "python",
   "nbconvert_exporter": "python",
   "pygments_lexer": "ipython3",
   "version": "3.8.18"
  }
 },
 "nbformat": 4,
 "nbformat_minor": 2
}
